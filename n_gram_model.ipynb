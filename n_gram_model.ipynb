{
  "cells": [
    {
      "cell_type": "markdown",
      "metadata": {},
      "source": [
        "<strong><h3>Design of language model for auto completion of sentences using N-gram</h3></strong>"
      ]
    },
    {
      "cell_type": "code",
      "execution_count": null,
      "metadata": {
        "colab": {
          "base_uri": "https://localhost:8080/"
        },
        "id": "I5YdmZPBuYjV",
        "outputId": "b956b69c-bbe4-45b8-eac8-122c9003929e"
      },
      "outputs": [
        {
          "name": "stderr",
          "output_type": "stream",
          "text": [
            "[nltk_data] Downloading package brown to /root/nltk_data...\n",
            "[nltk_data]   Unzipping corpora/brown.zip.\n"
          ]
        },
        {
          "data": {
            "text/plain": [
              "True"
            ]
          },
          "execution_count": 6,
          "metadata": {},
          "output_type": "execute_result"
        }
      ],
      "source": [
        "import nltk\n",
        "from nltk.corpus import brown\n",
        "nltk.download('brown')"
      ]
    },
    {
      "cell_type": "markdown",
      "metadata": {
        "id": "o1KwTCbejnZ2"
      },
      "source": [
        "Download datset and preprocessing of Data\n"
      ]
    },
    {
      "cell_type": "code",
      "execution_count": null,
      "metadata": {
        "colab": {
          "base_uri": "https://localhost:8080/"
        },
        "id": "bAjcMvT3EAN5",
        "outputId": "72aae80a-95bf-41b1-da5e-4e096644ed94"
      },
      "outputs": [
        {
          "data": {
            "text/plain": [
              "['This', 'is', 'a', 'sentence', '.']"
            ]
          },
          "execution_count": 7,
          "metadata": {},
          "output_type": "execute_result"
        }
      ],
      "source": [
        "from nltk import word_tokenize\n",
        "from nltk.tokenize import TreebankWordTokenizer\n",
        "tokenizer = TreebankWordTokenizer()\n",
        "tokenizer.tokenize('This is a sentence.')"
      ]
    },
    {
      "cell_type": "code",
      "execution_count": null,
      "metadata": {
        "colab": {
          "base_uri": "https://localhost:8080/",
          "height": 36
        },
        "id": "U3I85SFLJaHM",
        "outputId": "75a0fa87-e39f-4337-bbad-8d8606741b0b"
      },
      "outputs": [
        {
          "data": {
            "application/vnd.google.colaboratory.intrinsic+json": {
              "type": "string"
            },
            "text/plain": [
              "'!\"#$%&\\'()*+,-./:;<=>?@[\\\\]^_`{|}~'"
            ]
          },
          "execution_count": 22,
          "metadata": {},
          "output_type": "execute_result"
        }
      ],
      "source": [
        "import string\n",
        "exclude = string.punctuation"
      ]
    },
    {
      "cell_type": "code",
      "execution_count": null,
      "metadata": {
        "id": "lONhKd2JJzQb"
      },
      "outputs": [],
      "source": [
        "def remove_pun(text):\n",
        "  return text(str.maketrans('' , '' , exclude ))\n",
        "\n"
      ]
    },
    {
      "cell_type": "code",
      "execution_count": null,
      "metadata": {
        "colab": {
          "base_uri": "https://localhost:8080/"
        },
        "id": "9yzpNLB6z8Kr",
        "outputId": "f155e7ea-2041-4a08-c958-29139b7b1a07"
      },
      "outputs": [
        {
          "name": "stdout",
          "output_type": "stream",
          "text": [
            "the fulton county grand jury said friday an investigation of atlanta's recent primary election produced `` no evidence '' that any irregularities took place . the jury further said in term-end presentments that the city executive committee , which had over-all charge of the election , `` deserves the praise and thanks of the city of atlanta '' for the manner in which the election was conducted . the september-october term jury had been charged by fulton superior court judge durwood pye to investigate reports of possible `` irregularities '' in the hard-fought primary which was won by mayor-nominate ivan "
          ]
        }
      ],
      "source": [
        "corpus = nltk.corpus.brown.words()\n",
        "len(corpus)\n",
        "# remove_pun(corpus)\n",
        "corpus[2]\n",
        "corpus = [w.lower() for w in corpus]\n",
        "for i in range(100):\n",
        "  print(corpus[i], end = \" \")"
      ]
    },
    {
      "cell_type": "markdown",
      "metadata": {
        "id": "jVt8_C4wHA54"
      },
      "source": [
        "Count Bigrams and Trigrams in Corpus\n"
      ]
    },
    {
      "cell_type": "code",
      "execution_count": null,
      "metadata": {
        "id": "mTpb9WWuufOa"
      },
      "outputs": [],
      "source": [
        "bigram = {}\n",
        "trigram = {}\n",
        "bigram_count = 0\n",
        "trigram_count = 0\n",
        "\n",
        "for i in range(len(corpus) - 1):\n",
        "    current_bigram = (corpus[i], corpus[i+1])\n",
        "    if current_bigram in bigram:\n",
        "        bigram[current_bigram] += 1\n",
        "    else:\n",
        "        bigram[current_bigram] = 1\n",
        "\n",
        "for i in range(len(corpus) - 2):\n",
        "    current_trigram = (corpus[i], corpus[i+1], corpus[i+2])\n",
        "    if current_trigram in trigram:\n",
        "        trigram[current_trigram] += 1\n",
        "    else:\n",
        "        trigram[current_trigram] = 1\n",
        "\n",
        "bigram_count = len(bigram)\n",
        "trigram_count = len(trigram)\n",
        "\n"
      ]
    },
    {
      "cell_type": "markdown",
      "metadata": {
        "id": "f0lZqHSujq2x"
      },
      "source": [
        "Test any setence for next Word Prediction\n"
      ]
    },
    {
      "cell_type": "markdown",
      "metadata": {
        "id": "dZNlSoeyw54v"
      },
      "source": [
        "**1. Bigram predict function**"
      ]
    },
    {
      "cell_type": "code",
      "execution_count": null,
      "metadata": {
        "id": "0oZ-yPrnj-e1"
      },
      "outputs": [],
      "source": [
        "def predict_bigram(text):\n",
        "  words = text.split()\n",
        "  curr_word = words[-1]\n",
        "  curr_word = curr_word.lower()\n",
        "  # print(curr_word )\n",
        "\n",
        "  possible_next_word = [bigram[1] for bigram in bigram.keys() if bigram[0] == curr_word]\n",
        "\n",
        "  next_word_count = [bigram[(curr_word , next_word)] for next_word in possible_next_word]\n",
        "\n",
        "  max_count_index = next_word_count.index(max(next_word_count))\n",
        "\n",
        "  return possible_next_word[max_count_index]\n",
        "\n"
      ]
    },
    {
      "cell_type": "markdown",
      "metadata": {
        "id": "WKypo5OKxBR9"
      },
      "source": [
        "**2. Trigram predict method**"
      ]
    },
    {
      "cell_type": "code",
      "execution_count": null,
      "metadata": {
        "id": "IizQXJiYuQQ5"
      },
      "outputs": [],
      "source": [
        "def predict_trigram(text):\n",
        "    words = text.split()\n",
        "    if len(words) < 2:\n",
        "        return \"Input text is too short .. try again \"\n",
        "\n",
        "    prev_word1 = words[-2].lower()\n",
        "    prev_word2 = words[-1].lower()\n",
        "    # print(prev_word1, prev_word2)\n",
        "\n",
        "    possible_next_word = [trigram[2] for trigram in trigram.keys() if trigram[0] == prev_word1 and trigram[1] == prev_word2]\n",
        "\n",
        "    next_word_count = [trigram[(prev_word1, prev_word2, next_word)] for next_word in possible_next_word]\n",
        "\n",
        "    max_count_index = next_word_count.index(max(next_word_count))\n",
        "\n",
        "    return possible_next_word[max_count_index]\n"
      ]
    },
    {
      "cell_type": "markdown",
      "metadata": {
        "id": "rYPh75L3xJLi"
      },
      "source": [
        "Testing for input Sentence"
      ]
    },
    {
      "cell_type": "code",
      "execution_count": null,
      "metadata": {
        "colab": {
          "base_uri": "https://localhost:8080/"
        },
        "id": "pBIeSkrto6XO",
        "outputId": "12272e66-a366-4e7a-b7eb-ebf560392e89"
      },
      "outputs": [
        {
          "name": "stdout",
          "output_type": "stream",
          "text": [
            "Give sentence was :  I am shatnu but also i am the\n",
            "\n",
            "\n",
            "Accoding to bigram next word will be :  first\n",
            "Accoding to trigram next word will be : wife\n"
          ]
        }
      ],
      "source": [
        "sen = \"I am shatnu but also i am the\"\n",
        "\n",
        "print(\"Give sentence was : \" , sen)\n",
        "print(\"\\n\")\n",
        "print(f'Accoding to bigram next word will be :  {predict_bigram(sen)}')\n",
        "print(f'Accoding to trigram next word will be : {predict_trigram(sen)}')"
      ]
    }
  ],
  "metadata": {
    "colab": {
      "provenance": []
    },
    "kernelspec": {
      "display_name": "Python 3",
      "name": "python3"
    },
    "language_info": {
      "name": "python"
    }
  },
  "nbformat": 4,
  "nbformat_minor": 0
}
